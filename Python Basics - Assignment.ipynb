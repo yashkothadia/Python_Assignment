{
 "cells": [
  {
   "cell_type": "code",
   "execution_count": 1,
   "id": "42d392f2",
   "metadata": {},
   "outputs": [
    {
     "name": "stdout",
     "output_type": "stream",
     "text": [
      "i love my mother\n"
     ]
    }
   ],
   "source": [
    "a = \"i love my mother\"\n",
    "print(a)"
   ]
  },
  {
   "cell_type": "code",
   "execution_count": 2,
   "id": "cd5b7ac1",
   "metadata": {},
   "outputs": [
    {
     "name": "stdout",
     "output_type": "stream",
     "text": [
      "i love my father\n"
     ]
    }
   ],
   "source": [
    "a = \"i love my father\"\n",
    "print(a)"
   ]
  },
  {
   "cell_type": "code",
   "execution_count": 3,
   "id": "15a9fdea",
   "metadata": {},
   "outputs": [
    {
     "name": "stdout",
     "output_type": "stream",
     "text": [
      "hello harshil,would you like to play cricket today?\n"
     ]
    }
   ],
   "source": [
    "b = \"harshil\"\n",
    "print(\"hello harshil,would you like to play cricket today?\")"
   ]
  },
  {
   "cell_type": "code",
   "execution_count": 4,
   "id": "b64d6737",
   "metadata": {},
   "outputs": [
    {
     "name": "stdout",
     "output_type": "stream",
     "text": [
      "Once a loard krishna said:WHATEVER HAPPENED, HAPPENED FOR THE GOOD. WHATEVER IS HAPPENNG,IS HAPPENING FOR THE GOOD WHATHEVER WILL HAPPEN,WIIL ALSO HAPPEN FOR THE GOOD.\n"
     ]
    }
   ],
   "source": [
    "# yash kothadia & 22/10/2022\n",
    "# this program print the sentence which is written in \"print command\"\n",
    "print(\"Once a loard krishna said:\"   \n",
    "      \"WHATEVER HAPPENED,\"\n",
    "     \" HAPPENED FOR THE GOOD.\"\n",
    "     \" WHATEVER IS HAPPENNG,IS\"\n",
    "     \" HAPPENING FOR THE GOOD\"\n",
    "     \" WHATHEVER WILL HAPPEN,WIIL\"\n",
    "     \" ALSO HAPPEN FOR THE GOOD.\")"
   ]
  },
  {
   "cell_type": "code",
   "execution_count": 5,
   "id": "74732d35",
   "metadata": {},
   "outputs": [
    {
     "name": "stdout",
     "output_type": "stream",
     "text": [
      "Once a loard krishna said:WHATEVER HAPPENED, HAPPENED FOR THE GOOD WHATEVER IS HAPPENNG,IS HAPPENING FOR THE GOOD. WHATHEVER WILL HAPPEN,WIIL ALSO HAPPEN FOR THE GOOD.\n"
     ]
    }
   ],
   "source": [
    "famous_person= \"lord krishna\"\n",
    "message =(\"Once a loard krishna said:\"   \n",
    "      \"WHATEVER HAPPENED,\"\n",
    "     \" HAPPENED FOR THE GOOD\"\n",
    "     \" WHATEVER IS HAPPENNG,IS\"\n",
    "     \" HAPPENING FOR THE GOOD.\"\n",
    "     \" WHATHEVER WILL HAPPEN,WIIL\"\n",
    "     \" ALSO HAPPEN FOR THE GOOD.\")\n",
    "print(message)"
   ]
  },
  {
   "cell_type": "code",
   "execution_count": 6,
   "id": "6f8e23ba",
   "metadata": {},
   "outputs": [
    {
     "name": "stdout",
     "output_type": "stream",
     "text": [
      "8\n",
      "8\n",
      "8\n",
      "8\n"
     ]
    }
   ],
   "source": [
    "# yash kothadia & 22/10/2022\n",
    "# this program print addition,substraction,multiplication,divion of given value in \"print comand\"\n",
    "print(4+4)\n",
    "print(4*2)\n",
    "print(12-4)\n",
    "print(int(96/12))"
   ]
  },
  {
   "cell_type": "code",
   "execution_count": 7,
   "id": "fc1f829d",
   "metadata": {},
   "outputs": [
    {
     "name": "stdout",
     "output_type": "stream",
     "text": [
      "my birthday date is 7\n"
     ]
    }
   ],
   "source": [
    "x = 7\n",
    "print(\"my birthday date is\",x)"
   ]
  },
  {
   "cell_type": "code",
   "execution_count": 8,
   "id": "5f15c474",
   "metadata": {},
   "outputs": [
    {
     "name": "stdout",
     "output_type": "stream",
     "text": [
      "['Vasu', 'Abhishek', 'Harshil', 'Dikshit', 'Vatsal']\n"
     ]
    }
   ],
   "source": [
    "name = [\"Vasu\",\"Abhishek\",\"Harshil\",\"Dikshit\",\"Vatsal\"]\n",
    "print(name)"
   ]
  },
  {
   "cell_type": "code",
   "execution_count": 9,
   "id": "60e93d47",
   "metadata": {},
   "outputs": [
    {
     "name": "stdout",
     "output_type": "stream",
     "text": [
      "vasu\n"
     ]
    }
   ],
   "source": [
    "print(\"vasu\")"
   ]
  },
  {
   "cell_type": "code",
   "execution_count": 10,
   "id": "e3664c70",
   "metadata": {},
   "outputs": [
    {
     "name": "stdout",
     "output_type": "stream",
     "text": [
      "Abhishek\n"
     ]
    }
   ],
   "source": [
    "print(\"Abhishek\")"
   ]
  },
  {
   "cell_type": "code",
   "execution_count": 11,
   "id": "6cdf3d7a",
   "metadata": {},
   "outputs": [
    {
     "name": "stdout",
     "output_type": "stream",
     "text": [
      "Harshil\n"
     ]
    }
   ],
   "source": [
    "print(\"Harshil\")"
   ]
  },
  {
   "cell_type": "code",
   "execution_count": 12,
   "id": "cacecfd9",
   "metadata": {},
   "outputs": [
    {
     "name": "stdout",
     "output_type": "stream",
     "text": [
      "Dikshit\n"
     ]
    }
   ],
   "source": [
    "print(\"Dikshit\")"
   ]
  },
  {
   "cell_type": "code",
   "execution_count": 13,
   "id": "518c6415",
   "metadata": {},
   "outputs": [
    {
     "name": "stdout",
     "output_type": "stream",
     "text": [
      "Vatsal\n"
     ]
    }
   ],
   "source": [
    "print(\"Vatsal\")"
   ]
  },
  {
   "cell_type": "code",
   "execution_count": 17,
   "id": "63cec64a",
   "metadata": {},
   "outputs": [
    {
     "name": "stdout",
     "output_type": "stream",
     "text": [
      "hello Vasu,how are you?\n",
      "hello Abhishek,how are you?\n",
      "hello Harshil,how are you?\n",
      "hello Dikshit,how are you?\n",
      "hello Vatsal,how are you?\n"
     ]
    }
   ],
   "source": [
    "print(\"hello Vasu,how are you?\")\n",
    "print(\"hello Abhishek,how are you?\")\n",
    "print(\"hello Harshil,how are you?\")\n",
    "print(\"hello Dikshit,how are you?\")\n",
    "print(\"hello Vatsal,how are you?\")"
   ]
  },
  {
   "cell_type": "code",
   "execution_count": 15,
   "id": "eead5e17",
   "metadata": {},
   "outputs": [
    {
     "name": "stdout",
     "output_type": "stream",
     "text": [
      "['Bus', 'Car', 'Motorcycle', 'airoplane', 'cycle']\n"
     ]
    }
   ],
   "source": [
    "transportation_mode = [\"Bus\",\"Car\",\"Motorcycle\",\"airoplane\",\"cycle\"]\n",
    "print(transportation_mode)"
   ]
  },
  {
   "cell_type": "code",
   "execution_count": 18,
   "id": "24df99c8",
   "metadata": {},
   "outputs": [
    {
     "name": "stdout",
     "output_type": "stream",
     "text": [
      "i would like to travel in Bus for a very long distance.\n",
      "i would like to own a BWM car.\n",
      "i would like to drive motorcycle.\n",
      "i would like the facilities of airindia rather then the other cpmpany.\n",
      "i would like to cycling in the morning.\n"
     ]
    }
   ],
   "source": [
    "print(\"i would like to travel in Bus for a very long distance.\")\n",
    "print(\"i would like to own a BWM car.\")\n",
    "print(\"i would like to drive motorcycle.\")\n",
    "print(\"i would like the facilities of airindia rather then the other cpmpany.\")\n",
    "print(\"i would like to cycling in the morning.\")"
   ]
  }
 ],
 "metadata": {
  "kernelspec": {
   "display_name": "Python 3 (ipykernel)",
   "language": "python",
   "name": "python3"
  },
  "language_info": {
   "codemirror_mode": {
    "name": "ipython",
    "version": 3
   },
   "file_extension": ".py",
   "mimetype": "text/x-python",
   "name": "python",
   "nbconvert_exporter": "python",
   "pygments_lexer": "ipython3",
   "version": "3.9.12"
  }
 },
 "nbformat": 4,
 "nbformat_minor": 5
}
