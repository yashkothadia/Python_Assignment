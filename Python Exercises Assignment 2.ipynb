{
 "cells": [
  {
   "cell_type": "markdown",
   "id": "58af7b43",
   "metadata": {},
   "source": [
    "1) Write a program that reads an integer from the user. Then your program should display a message indicating whether the integer is even or odd."
   ]
  },
  {
   "cell_type": "code",
   "execution_count": 8,
   "id": "f0e707d5",
   "metadata": {},
   "outputs": [
    {
     "name": "stdout",
     "output_type": "stream",
     "text": [
      "Enter the integer number- 78\n",
      "Entered number is Even\n"
     ]
    }
   ],
   "source": [
    "x = int(input(\"Enter the integer number- \"))\n",
    "if (x%2==0):\n",
    "    print(\"Entered number is Even\")\n",
    "else:\n",
    "    print(\"Entered number is Odd\")"
   ]
  },
  {
   "cell_type": "markdown",
   "id": "89e00079",
   "metadata": {},
   "source": [
    "2) Write a program that implements the conversion from human years to dog years described in the previous paragraph. Ensure that your program works correctly for conversions of less than two human years and for conversions of two or more human years. Your program should display an appropriate error message if the user enters a negative number."
   ]
  },
  {
   "cell_type": "code",
   "execution_count": 13,
   "id": "97faa999",
   "metadata": {},
   "outputs": [
    {
     "name": "stdout",
     "output_type": "stream",
     "text": [
      "Entre the human year- 24\n",
      "The Dog years are  2.0\n"
     ]
    }
   ],
   "source": [
    "# 15 human years equals the first year of a medium-sized dog's life.\n",
    "# Year two for a dog equals about nine years for a human.\n",
    "# And after that, each four human year would be approximately one years for a dog.\n",
    "\n",
    "y = int(input(\"Entre the human year- \"))\n",
    "if (y>=0 and y<=15):\n",
    "    d = y/15\n",
    "    print(\"The Dog year is \",d)\n",
    "elif((y>=16)and(y<=24)):\n",
    "    e = 1+((y-15)/9)\n",
    "    print(\"The Dog years are \",e)\n",
    "elif (y>24):\n",
    "    f = 2 + ((y-24)/4)\n",
    "    print(\"The Dog years are \",f)\n",
    "else:\n",
    "    print(\"Negative numbers are not allowed \")"
   ]
  },
  {
   "cell_type": "markdown",
   "id": "4f3f3f38",
   "metadata": {},
   "source": [
    "3) Create a program that reads a letter of the alphabet from the user. If the user enters a, e, i, o or u then your program should display a message indicating that the entered letter is a vowel. If the user enters y then your program should display a message indicating that sometimes y is a vowel, and sometimes y is a consonant. Otherwise your program should display a message indicating that the letter is a consonant."
   ]
  },
  {
   "cell_type": "code",
   "execution_count": 16,
   "id": "8bab7c86",
   "metadata": {},
   "outputs": [
    {
     "name": "stdout",
     "output_type": "stream",
     "text": [
      "Enter the Letter a\n",
      "The letter is a vowel.\n"
     ]
    }
   ],
   "source": [
    "z = input(\"Enter the Letter \")\n",
    "s = z.lower()\n",
    "if (s==\"a\"or s==\"e\"or s==\"i\"or s==\"o\"or s==\"u\"):\n",
    "    print(\"The letter is a vowel.\")\n",
    "elif (s==\"y\"):\n",
    "    print(\"sometimes y is a vowel, and sometimes y is a consonant\")\n",
    "else:\n",
    "    print(\"The letter is a consonant\") "
   ]
  },
  {
   "cell_type": "markdown",
   "id": "a02cf996",
   "metadata": {},
   "source": [
    "4) Write a program that determines the name of a shape from its number of sides. Read the number of sides from the user and then report the appropriate name as part of a meaningful message. Your program should support shapes with anywhere from 3 up to (and including) 10 sides. If a number of sides outside of this range is entered then your program should display an appropriate error message"
   ]
  },
  {
   "cell_type": "code",
   "execution_count": 9,
   "id": "5ce8b39d",
   "metadata": {},
   "outputs": [
    {
     "name": "stdout",
     "output_type": "stream",
     "text": [
      "Enter any one number between 3 to 10 - 11\n",
      "a number of sides outside of the range\n"
     ]
    }
   ],
   "source": [
    "x = int(input(\"Enter any one number between 3 to 10 - \"))\n",
    "s = {3:\"Triangle\",4:\"Quadrilateral\",5:\"Pentagon\",6:\"Hexagon\",7:\"Heptagon\",8:\"Octagon\",9:\"Nonagon\",10:\"Decagon\"}\n",
    "if x==3:\n",
    "    print(\"The shape is\",s[3])\n",
    "elif x==4:\n",
    "    print(\"The shape is\",s[4])\n",
    "elif x==5:\n",
    "    print(\"The shape is\",s[5])\n",
    "elif x==6:\n",
    "    print(\"The shape is\",s[6])\n",
    "elif x==7:\n",
    "    print(\"The shape is\",s[7])\n",
    "elif x==8:\n",
    "    print(\"The shape is\",s[8])\n",
    "elif x==9:\n",
    "    print(\"The shape is\",s[9])\n",
    "elif x==10:\n",
    "    print(\"The shape is\",s[10])\n",
    "else:\n",
    "    print(\"A number of sides outside of the range\")\n",
    "            "
   ]
  },
  {
   "cell_type": "markdown",
   "id": "0d30dad2",
   "metadata": {},
   "source": [
    "# OR"
   ]
  },
  {
   "cell_type": "code",
   "execution_count": 18,
   "id": "123df0ad",
   "metadata": {},
   "outputs": [
    {
     "name": "stdout",
     "output_type": "stream",
     "text": [
      "Enter any one number between 3 to 10 - 3\n",
      "The shape is Triangle\n"
     ]
    }
   ],
   "source": [
    "x = int(input(\"Enter any one number between 3 to 10 - \"))\n",
    "s = {3:\"Triangle\",4:\"Quadrilateral\",5:\"Pentagon\",6:\"Hexagon\",7:\"Heptagon\",8:\"Octagon\",9:\"Nonagon\",10:\"Decagon\"}\n",
    "if x in range(3,11):\n",
    "    for i in s:\n",
    "        i==x\n",
    "        print(\"The shape is\",s[x])\n",
    "        break\n",
    "else:\n",
    "    print(\"A number of sides outside of the range\")\n",
    "    "
   ]
  },
  {
   "cell_type": "markdown",
   "id": "e66f8f23",
   "metadata": {},
   "source": [
    "5) The length of a month varies from 28 to 31 days. In this exercise you will create a program that reads the name of a month from the user as a string. Then your program should display the number of days in that month. Display “28 or 29 days” for February so that leap years are addressed."
   ]
  },
  {
   "cell_type": "code",
   "execution_count": 4,
   "id": "8addbe87",
   "metadata": {},
   "outputs": [
    {
     "name": "stdout",
     "output_type": "stream",
     "text": [
      "Enter the month name- september\n",
      "This month have 30 Days\n"
     ]
    }
   ],
   "source": [
    "x = input(\"Enter the month name- \")\n",
    "if (x==\"january\")or(x==\"march\")or(x==\"may\")or(x==\"july\")or(x==\"august\")or(x==\"octomber\")or(x==\"december\"):\n",
    "    print(\"This month have 31 Days\")\n",
    "elif (x==\"february\"):\n",
    "    print(\"this month have 28 days or 29 days\")\n",
    "elif (x==\"april\")or(x==\"june\")or(x==\"september\")or(x==\"november\"):\n",
    "    print(\"This month have 30 Days\")\n",
    "else:\n",
    "    print(\"Entered month name is invalid\")\n"
   ]
  },
  {
   "cell_type": "markdown",
   "id": "59cdbab4",
   "metadata": {},
   "source": [
    "6) The following table lists the sound level in decibels for several common noises.\n",
    "Noise               Decibel level (dB) \n",
    "Jackhammer            130 \n",
    "Gas lawnmower         106 \n",
    "Alarm clock           70 \n",
    "Quiet room            40\n",
    "Write a program that reads a sound level in decibels from the user. If the user enters a decibel level that matches one of the noises in the table then your program should display a message containing only that noise. If the user enters a number of decibels between the noises listed then your program should display a message indicating which noises the level is between. Ensure that your program also generates reasonable output for a value smaller than the quietest noise in the table, and for a value larger than the loudest noise in the table."
   ]
  },
  {
   "cell_type": "code",
   "execution_count": 95,
   "id": "f7551b70",
   "metadata": {},
   "outputs": [
    {
     "name": "stdout",
     "output_type": "stream",
     "text": [
      "Enter noise level in dB - 150\n",
      "Entered dB is larger than the loudest noise\n"
     ]
    }
   ],
   "source": [
    "x = int(input(\"Enter noise level in dB - \"))\n",
    "if (x==130):\n",
    "    print(\"Jackhammer\")\n",
    "elif(x==106):\n",
    "    print(\"Gas lawnmower\")\n",
    "elif(x==70):\n",
    "    print(\"Alarm clock\")\n",
    "elif(x==40):\n",
    "    print(\"Quiet room \")\n",
    "elif(x>40 and x<70):\n",
    "    print(\"Entered dB is between Alarm clock and Quiet room\")\n",
    "elif(x>70 and x<106):\n",
    "    print(\"Entered dB is between Gas lawnmower and Alarm clock\")\n",
    "elif(x>106 and x<130):\n",
    "    print(\"Entered dB is between Jackhammer and Gas lawnmower\")\n",
    "elif(x<40):\n",
    "    print(\"Entered dB is smaller than the quietest noise\")\n",
    "else:\n",
    "    print(\"Entered dB is larger than the loudest noise\")"
   ]
  },
  {
   "cell_type": "code",
   "execution_count": null,
   "id": "f6dbf916",
   "metadata": {},
   "outputs": [],
   "source": [
    "# 7) The following table lists an octave of music notes, beginning with middle C, along with their frequencies.\n",
    "# Note   Frequency (Hz)\n",
    "# C4      261.63\n",
    "# D4      293.66 \n",
    "# E4      329.63\n",
    "# F4      349.23 \n",
    "# G4      392.00\n",
    "# A4      440.00 \n",
    "# B4      493.88\n",
    "# Begin by writing a program that reads the name of a note from the user and displays the note’s frequency."
   ]
  },
  {
   "cell_type": "code",
   "execution_count": 87,
   "id": "45e4d46b",
   "metadata": {},
   "outputs": [
    {
     "name": "stdout",
     "output_type": "stream",
     "text": [
      "To know the frquency,First choose note from this ['A4', 'B4', 'C4', 'D4', 'E4', 'F4', 'G4']\n",
      "Enter the music note A4\n",
      "The frequency is 440.00\n"
     ]
    }
   ],
   "source": [
    "s = [\"A4\",\"B4\",\"C4\",\"D4\",\"E4\",\"F4\",\"G4\"]\n",
    "print(\"To know the frquency,First choose note from this\",s)\n",
    "x = input(\"Enter the music note \")\n",
    "if x==\"C4\":\n",
    "    print(\"The frequency is 261.63\")\n",
    "elif x==\"D4\":\n",
    "    print(\"The frequency is 293.66\")\n",
    "elif x==\"E4\":\n",
    "    print(\"The frequency is 329.63\")\n",
    "elif x==\"F4\":\n",
    "    print(\"The frequency is 349.23\")\n",
    "elif x==\"G4\":\n",
    "    print(\"The frequency is 392.00\")\n",
    "elif x==\"A4\":\n",
    "    print(\"The frequency is 440.00\")\n",
    "elif x==\"B4\":\n",
    "    print(\"The frequency is 493.88\")\n",
    "else:\n",
    "    print(\"Entered note is not valid\")"
   ]
  },
  {
   "cell_type": "code",
   "execution_count": 60,
   "id": "367307b6",
   "metadata": {},
   "outputs": [
    {
     "name": "stdout",
     "output_type": "stream",
     "text": [
      "choose any one letter from A to G - dcs\n",
      "choose number from 1 to 8 - dcs\n",
      "enter valid letter or number\n"
     ]
    }
   ],
   "source": [
    "try:   \n",
    "    x = input(\"choose any one letter from A to G - \")\n",
    "    y = int(input(\"choose number from 1 to 8 - \"))\n",
    "    s = x.upper()\n",
    "    if (s==\"A\" or s==\"B\" or s==\"C\" or s==\"D\" or s==\"E\" or s==\"F\" or s==\"G\"):\n",
    "        if(y==1 or y==2 or y==3 or y==4 or y==5 or y==6 or y==7 or y==8):\n",
    "            z = s+str(y)\n",
    "            e = [1,8,4,2]\n",
    "            f = [1,1,1,1,1,2,4,8,16]\n",
    "            print(\"The choosen note is\",z)\n",
    "            C4   =   261.63\n",
    "            D4   =   293.66 \n",
    "            E4   =   329.63\n",
    "            F4   =   349.23 \n",
    "            G4   =   392.00\n",
    "            A4   =   440.00 \n",
    "            B4   =   493.88\n",
    "            for i in range(1,9):\n",
    "                if(s==\"A\" and y==i):\n",
    "                    if (i<4):\n",
    "                        d = A4/e[i]\n",
    "                        print(\"The frequency is \",d)\n",
    "                    elif(i==4):\n",
    "                        print(\"The frequency is 440.00\")\n",
    "                    elif(i>4):\n",
    "                        g = A4*f[i]\n",
    "                        print(\"The frequency is \",g)\n",
    "            for i in range(1,9):\n",
    "                if(s==\"B\" and y==i):\n",
    "                    if (i<4):\n",
    "                        d = B4/e[i]\n",
    "                        print(\"The frequency is \",d)\n",
    "                    elif(i==4):\n",
    "                        print(\"The frequency is 493.88\")\n",
    "                    elif(i>4):\n",
    "                        g = B4*f[i]\n",
    "                        print(\"The frequency is \",g)\n",
    "            for i in range(1,9):\n",
    "                if(s==\"C\" and y==i):\n",
    "                    if (i<4):\n",
    "                        d = C4/e[i]\n",
    "                        print(\"The frequency is \",d)\n",
    "                    elif(i==4):\n",
    "                        print(\"The frequency is 261.63\")\n",
    "                    elif(i>4):\n",
    "                        g = C4*f[i]\n",
    "                        print(\"The frequency is \",g)\n",
    "            for i in range(1,9):\n",
    "                if(s==\"D\" and y==i):\n",
    "                    if (i<4):\n",
    "                        d = D4/e[i]\n",
    "                        print(\"The frequency is \",d)\n",
    "                    elif(i==4):\n",
    "                        print(\"The frequency is 293.66\")\n",
    "                    elif(i>4):\n",
    "                        g = D4*f[i]\n",
    "                        print(\"The frequency is \",g)            \n",
    "            for i in range(1,9):\n",
    "                if(s==\"E\" and y==i):\n",
    "                    if (i<4):\n",
    "                        d = E4/e[i]\n",
    "                        print(\"The frequency is \",d)\n",
    "                    elif(i==4):\n",
    "                        print(\"The frequency is 329.63\")\n",
    "                    elif(i>4):\n",
    "                        g = E4*f[i]\n",
    "                        print(\"The frequency is \",g)\n",
    "            for i in range(1,9):\n",
    "                if(s==\"F\" and y==i):\n",
    "                    if (i<4):\n",
    "                        d = F4/e[i]\n",
    "                        print(\"The frequency is \",d)\n",
    "                    elif(i==4):\n",
    "                        print(\"The frequency is 349.23\")\n",
    "                    elif(i>4):\n",
    "                        g = F4*f[i]\n",
    "                        print(\"The frequency is \",g)  \n",
    "            for i in range(1,9):\n",
    "                if(s==\"G\" and y==i):\n",
    "                    if (i<4):\n",
    "                        d = G4/e[i]\n",
    "                        print(\"The frequency is \",d)\n",
    "                    elif(i==4):\n",
    "                        print(\"The frequency is 392.00\")\n",
    "                    elif(i>4):\n",
    "                        g = G4*f[i]\n",
    "                        print(\"The frequency is \",g)\n",
    "        else:\n",
    "            print(\"enter valid letter or number\")\n",
    "    else:\n",
    "        print(\"enter valid letter or number\")\n",
    "except:\n",
    "    print(\"enter valid letter or number\")"
   ]
  },
  {
   "cell_type": "markdown",
   "id": "9bc5f959",
   "metadata": {},
   "source": [
    "8) In the previous question you converted from note name to frequency. In this question you will write a program that reverses that process. Begin by reading a frequency from the user. If the frequency is within one Hertz of a value listed in the table in the previous question then report the name of the note. Otherwise report that the frequency does not correspond to a known note. In this exercise you only need to consider the notes listed in the table. There is no need to consider notes from other octaves."
   ]
  },
  {
   "cell_type": "code",
   "execution_count": 3,
   "id": "78ce8ca6",
   "metadata": {},
   "outputs": [
    {
     "name": "stdout",
     "output_type": "stream",
     "text": [
      "Choose any one the freq from this  [493.88, 440, 392, 349.23, 329.63, 293.66, 261.63]\n",
      "Enter the frequency- 392\n",
      "The note is G4\n"
     ]
    }
   ],
   "source": [
    "s = [493.88, 440, 392, 349.23, 329.63, 293.66, 261.63]\n",
    "print(\"Choose any one the freq from this \",s)\n",
    "x = float(input(\"Enter the frequency- \"))\n",
    "if x==s[0]:\n",
    "    print(\"The note is B4\")\n",
    "elif x==s[1]:\n",
    "    print(\"The note is A4\")\n",
    "elif x==s[2]:\n",
    "    print(\"The note is G4\")\n",
    "elif x==s[3]:\n",
    "    print(\"The note is F4\")\n",
    "elif x==s[4]:\n",
    "    print(\"The note is E4\")\n",
    "elif x==s[5]:\n",
    "    print(\"The note is D4\")\n",
    "elif x==s[6]:\n",
    "    print(\"The note is C4\")\n",
    "else:\n",
    "    print(\"Entered frequency is invalid\")"
   ]
  },
  {
   "cell_type": "code",
   "execution_count": null,
   "id": "ffed45ba",
   "metadata": {},
   "outputs": [],
   "source": [
    "# 9) The wavelength of visible light ranges from 380 to 750 nanometers (nm). While the spectrum is continuous, it is often divided    into 6 colors as shown below:\n",
    "# Color          Wavelength (nm) \n",
    "# Violet         380 to less than 450 \n",
    "# Blue           450 to less than 495 \n",
    "# Green          495 to less than 570 \n",
    "# Yellow         570 to less than 590 \n",
    "# Orange         590 to less than 620\n",
    "# Red            620 to 750\n",
    "# Write a program that reads a wavelength from the user and reports its color. Display an appropriate error message if the wavelength entered by the user is outside of the visible spectrum."
   ]
  },
  {
   "cell_type": "code",
   "execution_count": 8,
   "id": "dbad2bb2",
   "metadata": {},
   "outputs": [
    {
     "name": "stdout",
     "output_type": "stream",
     "text": [
      "Enter the wavelength between 380 to 750 - 750\n",
      "The color is Red\n"
     ]
    }
   ],
   "source": [
    "x = int(input(\"Enter the wavelength between 380 to 750 - \"))\n",
    "if (x>=380 and x<450):\n",
    "    print(\"The color is Violet\")\n",
    "elif (x>=450 and x<495):\n",
    "    print(\"The color is Blue\")\n",
    "elif (x>=495 and x<570):\n",
    "    print(\"The color is Green\")\n",
    "elif (x>=570 and x<590):\n",
    "    print(\"The color is Yellow\")\n",
    "elif (x>=490 and x<620):\n",
    "    print(\"The color is Orange\")\n",
    "elif (x>=620 and x<=750):\n",
    "    print(\"The color is Red\")\n",
    "else:\n",
    "    print(\"Entered wavelength is invalid\")"
   ]
  },
  {
   "cell_type": "markdown",
   "id": "d1497cad",
   "metadata": {},
   "source": [
    "# List "
   ]
  },
  {
   "cell_type": "markdown",
   "id": "14f446c2",
   "metadata": {},
   "source": [
    "1) Write a main program that demonstrates your function. Your function should read a list of numbers from the user and remove the two largest and two smallest values from it. Display the list with the outliers removed, followed by the original list. Your program should generate an appropriate error message if the user enters less than 4 values."
   ]
  },
  {
   "cell_type": "code",
   "execution_count": 1,
   "id": "ec932443",
   "metadata": {},
   "outputs": [],
   "source": [
    "# just for practice\n",
    "# def mid():\n",
    "#         s = []\n",
    "#         for i in range(0,10):\n",
    "#             x = float(input(\"Enter the number - \"))\n",
    "#             if (x>0):\n",
    "#                 s.append(x)\n",
    "#                 print(s)\n",
    "#             else:\n",
    "#                 print(\"negative numbers are not allowed\")\n",
    "#         return(s)"
   ]
  },
  {
   "cell_type": "code",
   "execution_count": 4,
   "id": "d3be3f05",
   "metadata": {},
   "outputs": [],
   "source": [
    "def m():\n",
    "        n = int(input(\"How many vlues are you enter in the list \"))\n",
    "        s = []\n",
    "        while True:\n",
    "            if (len(s)==n):\n",
    "                break\n",
    "            elif (n<4):\n",
    "                print(\"More values are require\")\n",
    "                break\n",
    "            else:\n",
    "                x = float(input(\"Enter the number - \"))\n",
    "                if (x>0):\n",
    "                    s.append(x)\n",
    "                    print(s)\n",
    "                elif(x<0):\n",
    "                    print(\"negative numbers are not allowed\")         \n",
    "        return(s)"
   ]
  },
  {
   "cell_type": "code",
   "execution_count": 5,
   "id": "748cbd01",
   "metadata": {
    "collapsed": true
   },
   "outputs": [
    {
     "name": "stdout",
     "output_type": "stream",
     "text": [
      "How many vlues are you enter in the list 12\n",
      "Enter the number - 5\n",
      "[5.0]\n",
      "Enter the number - 12\n",
      "[5.0, 12.0]\n",
      "Enter the number - 15\n",
      "[5.0, 12.0, 15.0]\n",
      "Enter the number - 34\n",
      "[5.0, 12.0, 15.0, 34.0]\n",
      "Enter the number - 38\n",
      "[5.0, 12.0, 15.0, 34.0, 38.0]\n",
      "Enter the number - 75\n",
      "[5.0, 12.0, 15.0, 34.0, 38.0, 75.0]\n",
      "Enter the number - 80\n",
      "[5.0, 12.0, 15.0, 34.0, 38.0, 75.0, 80.0]\n",
      "Enter the number - 79\n",
      "[5.0, 12.0, 15.0, 34.0, 38.0, 75.0, 80.0, 79.0]\n",
      "Enter the number - 13\n",
      "[5.0, 12.0, 15.0, 34.0, 38.0, 75.0, 80.0, 79.0, 13.0]\n",
      "Enter the number - 18\n",
      "[5.0, 12.0, 15.0, 34.0, 38.0, 75.0, 80.0, 79.0, 13.0, 18.0]\n",
      "Enter the number - 20\n",
      "[5.0, 12.0, 15.0, 34.0, 38.0, 75.0, 80.0, 79.0, 13.0, 18.0, 20.0]\n",
      "Enter the number - 28\n",
      "[5.0, 12.0, 15.0, 34.0, 38.0, 75.0, 80.0, 79.0, 13.0, 18.0, 20.0, 28.0]\n",
      "\n",
      "List for data analysis is  [15.0, 34.0, 38.0, 75.0, 13.0, 18.0, 20.0, 28.0]\n",
      "Removed largest outlier [80.0, 79.0]\n",
      "Removed smallest outliers [5.0, 12.0]\n"
     ]
    }
   ],
   "source": [
    "try:\n",
    "    g=[]\n",
    "    f=[]\n",
    "    a = m()\n",
    "    print()\n",
    "    w = max(a)\n",
    "    g.append(w)\n",
    "    a.remove(w)\n",
    "    v = max(a)\n",
    "    g.append(v)\n",
    "    a.remove(v)\n",
    "    u = min(a)\n",
    "    f.append(u)\n",
    "    a.remove(u)\n",
    "    t = min(a)\n",
    "    f.append(t)\n",
    "    a.remove(t)\n",
    "    print(\"List for data analysis is \",a)\n",
    "    print(\"Removed largest outlier\",g)\n",
    "    print(\"Removed smallest outliers\",f)\n",
    "except:\n",
    "    print(\"error\")"
   ]
  },
  {
   "cell_type": "markdown",
   "id": "82b8a5ec",
   "metadata": {},
   "source": [
    "2) In this exercise you will create a program that identifies all of the words in a string entered by the user. Begin by writing a function that takes a string of text as its only parameter. Your function should return a list of the words in the string with the punctuation marks at the edges of the words removed. The punctuation marks that you must remove include commas, periods, question marks, hyphens, apostrophes, exclamation points, colons, and semicolons. Do not remove punctuation marks that appear in the middle of a words, such as the apostrophes used to form a contraction. For example, if your function is provided with the string \"Examples of contractions include: don’t, isn’t, and wouldn’t.\" then your function should return the list [\"Examples\", \"of\",\"contractions\",\"include\",\"don’t\",\"isn’t\",\"and\",\"wouldn’t\"].Write a main program that demonstrates your function. It should read a string from the user and display all of the words in the string with the punctuation marks removed. You will need to import your solution to this exercise when completing Exercise 158. As a result, you should ensure that your main program only runs when your file has not been imported into another program."
   ]
  },
  {
   "cell_type": "code",
   "execution_count": 43,
   "id": "fc896712",
   "metadata": {},
   "outputs": [],
   "source": [
    "def p():\n",
    "    x = input(\"Enter your sentence- \")\n",
    "    y = x.split(\" \")\n",
    "    s = []\n",
    "    s.extend(y)\n",
    "    return(s)"
   ]
  },
  {
   "cell_type": "code",
   "execution_count": 44,
   "id": "22651a35",
   "metadata": {},
   "outputs": [
    {
     "name": "stdout",
     "output_type": "stream",
     "text": [
      "Enter your sentence- yash! and raj are good boy's and y_O is s:c ha'clk\n",
      "11\n",
      "['and', 'raj', 'are', 'good', \"boy's\", 'and', 'is']\n"
     ]
    }
   ],
   "source": [
    "a = p()\n",
    "f = len(a)\n",
    "print(f)\n",
    "z = f-1\n",
    "while z>=0:\n",
    "    w = a[z]\n",
    "    u = list(w)\n",
    "    r = len(u)-1\n",
    "    while r>=0:\n",
    "        if(u[r]==\",\"):\n",
    "            a.remove(w)\n",
    "        elif(u[r]==\".\"):\n",
    "            a.remove(w)\n",
    "        elif(u[r]==\"?\"):\n",
    "            a.remove(w)\n",
    "        elif(u[r]==\"_\"):\n",
    "            a.remove(w)\n",
    "        elif(u[r]==\";\"):\n",
    "            a.remove(w)\n",
    "        elif(u[r]==\":\"):\n",
    "            a.remove(w)\n",
    "        elif(u[r]==\"!\"):\n",
    "            a.remove(w)\n",
    "        elif(r==len(u)-2):\n",
    "            pass\n",
    "        elif(u[r]==\"'\"):\n",
    "            a.remove(w)\n",
    "        r=r-1\n",
    "    z=z-1\n",
    "print(a)"
   ]
  },
  {
   "cell_type": "code",
   "execution_count": 41,
   "id": "bf672550",
   "metadata": {},
   "outputs": [],
   "source": [
    "# This program will remove all punctuation mark in the given sentence\n",
    "# a = p()\n",
    "# f = len(a)\n",
    "# print(f)\n",
    "# z = f-1\n",
    "# while z>=0:\n",
    "#     w = a[z]\n",
    "#     u = list(w)\n",
    "#     r = len(u)-1\n",
    "#     while r>=0:\n",
    "#         if(u[r]==\",\"):\n",
    "#             a.remove(w)\n",
    "#         elif(u[r]==\".\"):\n",
    "#             a.remove(w)\n",
    "#         elif(u[r]==\"?\"):\n",
    "#             a.remove(w)\n",
    "#         elif(u[r]==\"_\"):\n",
    "#             a.remove(w)\n",
    "#         elif(u[r]==\";\"):\n",
    "#             a.remove(w)\n",
    "#         elif(u[r]==\":\"):\n",
    "#             a.remove(w)\n",
    "#         elif(u[r]==\"!\"):\n",
    "#             a.remove(w)\n",
    "#         elif(u[r]==\"'\"):\n",
    "#             a.remove(w)\n",
    "#         r=r-1\n",
    "#     z=z-1\n",
    "# print(a)"
   ]
  }
 ],
 "metadata": {
  "kernelspec": {
   "display_name": "Python 3 (ipykernel)",
   "language": "python",
   "name": "python3"
  },
  "language_info": {
   "codemirror_mode": {
    "name": "ipython",
    "version": 3
   },
   "file_extension": ".py",
   "mimetype": "text/x-python",
   "name": "python",
   "nbconvert_exporter": "python",
   "pygments_lexer": "ipython3",
   "version": "3.9.12"
  }
 },
 "nbformat": 4,
 "nbformat_minor": 5
}
